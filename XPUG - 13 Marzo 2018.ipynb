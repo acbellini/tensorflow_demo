{
 "cells": [
  {
   "cell_type": "markdown",
   "metadata": {},
   "source": [
    "# Un semplice problema \n",
    "\n",
    "Partiamo dalla figura di un omino: lo disegnamo con 6 punti: \n",
    "\n",
    "testa, 2 mani, collo, 2 piedi\n",
    "\n",
    "TODO: figurina\n",
    "\n",
    "Il problema che vogliamo modellare e' di trovare le lunghezze degli arti"
   ]
  },
  {
   "cell_type": "code",
   "execution_count": 2,
   "metadata": {},
   "outputs": [],
   "source": [
    "import timeit\n",
    "import time\n",
    "import numpy as np\n",
    "\n",
    "num_joints = 6\n",
    "num_coords = num_joints * 2\n",
    "\n",
    "max_coord_value = 600\n",
    "\n",
    "HEAD = 0\n",
    "NECK = 1\n",
    "HAND_L = 2\n",
    "HAND_R = 3\n",
    "FOOT_L = 4\n",
    "FOOT_R = 5\n"
   ]
  },
  {
   "cell_type": "code",
   "execution_count": 3,
   "metadata": {},
   "outputs": [],
   "source": [
    "# TODO: move in a support file\n",
    "\n",
    "# From https://gist.github.com/hirokai/9202782\n",
    "from math import sqrt\n",
    "\n",
    "class Point:\n",
    "    def __init__(self,x_init,y_init):\n",
    "        self.x = x_init\n",
    "        self.y = y_init\n",
    "\n",
    "    def distance(self, b):\n",
    "        return sqrt((self.x-b.x)**2+(self.y-b.y)**2)\n",
    "\n",
    "    \n",
    "def log_speed(method, elapsed, num_samples, num_runs):\n",
    "    print(\"Method: {}. Ran {:,} samples {:,} times in {:,.4f} seconds. {:,d} samples/second\".format(\n",
    "        method, num_samples, num_runs, elapsed, int((num_samples*num_runs)/elapsed)\n",
    "    ))"
   ]
  },
  {
   "cell_type": "markdown",
   "metadata": {},
   "source": [
    "## Una soluzione OOP\n",
    "\n",
    "Creiamo una classe che dà una semantica ai dati, con operatori che ci permettono di calcolare le lunghezze degli arti:"
   ]
  },
  {
   "cell_type": "code",
   "execution_count": 4,
   "metadata": {},
   "outputs": [],
   "source": [
    "class Sticky():\n",
    "    head: Point = Point(0, 0)\n",
    "    neck: Point = Point(0, 0)\n",
    "    hand_l: Point = Point(0, 0)\n",
    "    hand_r: Point = Point(0, 0)\n",
    "    foot_l: Point = Point(0, 0)\n",
    "    foot_r: Point = Point(0, 0)\n",
    "    \n",
    "    def __init__(self):\n",
    "        pass\n",
    "\n",
    "    def __init__(self, coords: list):\n",
    "        \"\"\"\n",
    "        Coords is expected to be a list of 12 values, x, y in the order head, neck, hand_l, hand_r, foot_l, foot_r\n",
    "        \"\"\"\n",
    "        self.head.x = coords[2 * HEAD]\n",
    "        self.head.y = coords[2 * HEAD + 1]\n",
    "        self.neck.x = coords[2 * NECK]\n",
    "        self.neck.y = coords[2 * NECK + 1]\n",
    "        self.hand_l.x = coords[2 * HAND_L]\n",
    "        self.hand_l.y = coords[2 * HAND_L +1]\n",
    "        self.hand_r.x = coords[2 * HAND_R]\n",
    "        self.hand_r.y = coords[2 * HAND_R +1]\n",
    "        self.foot_l.x = coords[2 * FOOT_L]\n",
    "        self.foot_l.y = coords[2 * FOOT_L + 1]\n",
    "        self.foot_r.x = coords[2 * FOOT_R]\n",
    "        self.foot_r.y = coords[2 * FOOT_R + 1]\n",
    "        \n",
    "    def get_arm_right(self):\n",
    "        return self.neck.distance(self.hand_r)\n",
    "        \n",
    "    def get_arm_left(self):\n",
    "        return self.neck.distance(self.hand_l)\n",
    "        \n",
    "    def get_leg_right(self):\n",
    "        return self.neck.distance(self.foot_r)\n",
    "        \n",
    "    def get_leg_left(self):\n",
    "        return self.neck.distance(self.foot_l)\n",
    "        "
   ]
  },
  {
   "cell_type": "code",
   "execution_count": 5,
   "metadata": {},
   "outputs": [
    {
     "name": "stdout",
     "output_type": "stream",
     "text": [
      "Method: OOP. Ran 1,000 samples 100 times in 0.2977 seconds. 335,894 samples/second\n"
     ]
    }
   ],
   "source": [
    "num_samples = 1_000\n",
    "num_runs = 100\n",
    "sample_coords = np.random.random((num_samples, num_coords))*max_coord_value\n",
    "\n",
    "\n",
    "def test_oop():\n",
    "    lengths = []\n",
    "\n",
    "    for i in range(num_samples):\n",
    "        # Esercizio. provare a rimuovere .tolist() e misurare la performance\n",
    "        s = Sticky(sample_coords[i].tolist())\n",
    "        l = [s.get_arm_left(),\n",
    "             s.get_arm_right(),\n",
    "             s.get_leg_left(),\n",
    "             s.get_leg_right()\n",
    "             ]\n",
    "        lengths.append(l)\n",
    "        \n",
    "    return lengths\n",
    "\n",
    "\n",
    "log_speed(\"OOP\", timeit.timeit(test_oop, number=num_runs), num_samples, num_runs)\n"
   ]
  },
  {
   "cell_type": "markdown",
   "metadata": {},
   "source": [
    "Pro: Il codice e' semanticamente chiaro ed espressivo. Basta leggerlo per capire cosa fa\n",
    "\n",
    "Contro: un po' verboso, poco flessibile. Se aumenta il numero di punti, o se la struttura cambia?"
   ]
  },
  {
   "cell_type": "markdown",
   "metadata": {},
   "source": [
    "## Proviamo con un grafo"
   ]
  },
  {
   "cell_type": "code",
   "execution_count": 6,
   "metadata": {},
   "outputs": [],
   "source": [
    "ARM_L = [NECK, HAND_L]\n",
    "ARM_R = [NECK, HAND_R]\n",
    "LEG_L = [NECK, FOOT_L]\n",
    "LEG_R = [NECK, FOOT_R]\n",
    "THROAT = [HEAD, NECK]\n",
    "\n",
    "LIMBS = [THROAT, ARM_L, ARM_R, LEG_L, LEG_R]\n",
    "\n",
    "class Node():\n",
    "    location: Point = Point(0, 0)\n",
    "    children: list = []\n",
    "    parent = None\n",
    "        \n",
    "    def __init__(self):\n",
    "        pass\n",
    "    \n",
    "    def __init__(self, location: Point):\n",
    "        self.location = location\n",
    "        \n",
    "    def limb_length(self):\n",
    "        if self.parent is None:\n",
    "            return 0\n",
    "        \n",
    "        return self.location.distance(b=self.parent.location)\n",
    "    \n",
    "class StickyGraph():\n",
    "    def get_node(self, i, x=0, y=0):\n",
    "        if i not in self.nodes:\n",
    "            node = Node(Point(x, y))\n",
    "            self.nodes[i] = node\n",
    "        return self.nodes[i]\n",
    "    \n",
    "    def __init__(self, coordinates):\n",
    "        self.nodes = {}\n",
    "        for limb in LIMBS:\n",
    "            s_x = coordinates[2 * limb[0]]\n",
    "            s_y = coordinates[2 * limb[0] + 1]\n",
    "            e_x = coordinates[2 * limb[1]]\n",
    "            e_y = coordinates[2 * limb[1] + 1]\n",
    "            \n",
    "            start = self.get_node(limb[0], s_x, s_y)\n",
    "            end = self.get_node(limb[1], e_x, e_y)\n",
    "            end.parent = start\n",
    "            \n",
    "    def get_length(self, limb):\n",
    "        end = self.get_node(limb[1])\n",
    "        return end.limb_length()"
   ]
  },
  {
   "cell_type": "code",
   "execution_count": 7,
   "metadata": {},
   "outputs": [
    {
     "name": "stdout",
     "output_type": "stream",
     "text": [
      "Method: Graph. Ran 1,000 samples 100 times in 0.8825 seconds. 113,319 samples/second\n"
     ]
    }
   ],
   "source": [
    "num_samples = 1_000\n",
    "num_runs = 100\n",
    "sample_coords = np.random.random((num_samples, num_coords))*max_coord_value \n",
    "    \n",
    "def test_graph():\n",
    "    lengths = []\n",
    "    for i in range(num_samples):\n",
    "        s = StickyGraph(sample_coords[i].tolist())\n",
    "        l = [\n",
    "            s.get_length(ARM_L),\n",
    "            s.get_length(ARM_R),\n",
    "            s.get_length(LEG_L),\n",
    "            s.get_length(LEG_R)\n",
    "        ]\n",
    "        lengths.append(l)\n",
    "    return lengths\n",
    "\n",
    "\n",
    "log_speed(\"Graph\", timeit.timeit(test_graph, number=num_runs), num_samples, num_runs)"
   ]
  },
  {
   "cell_type": "markdown",
   "metadata": {},
   "source": [
    "Questo codice e' piu' astratto, meno comprensibile di quello OOP. Pero' e' piu' flessibile: se la struttura del grafo cambia, se aumentano o diminuiscono i nodi, basta cambiare la definizione di LIMBS.\n",
    "\n",
    "L'aggiunta di livelli di indirezione rende peggiori le performance"
   ]
  },
  {
   "cell_type": "markdown",
   "metadata": {},
   "source": [
    "#### Welcome to the Matrix"
   ]
  },
  {
   "cell_type": "code",
   "execution_count": 8,
   "metadata": {},
   "outputs": [
    {
     "name": "stdout",
     "output_type": "stream",
     "text": [
      "Method: Matrix. Ran 1,000 samples 100 times in 0.0200 seconds. 4,992,302 samples/second\n"
     ]
    }
   ],
   "source": [
    "num_samples = 1_000\n",
    "num_runs = 100\n",
    "sample_coords = np.random.random((num_samples, num_coords))*max_coord_value\n",
    "\n",
    "def limb_length(limb):\n",
    "    start = sample_coords[:, 2 * limb[0] : 2 * limb[0] + 2]\n",
    "    end   = sample_coords[:, 2 * limb[1] : 2 * limb[1] + 2]\n",
    "    return np.linalg.norm(start - end, axis=1)\n",
    "    \n",
    "def test_matrix():\n",
    "    lengths = np.empty((4, num_samples))\n",
    "    for i, limb in enumerate([ARM_L, ARM_R, LEG_L, LEG_R]):\n",
    "        lengths[i] = limb_length(limb)\n",
    "    return lengths.T\n",
    "\n",
    "log_speed(\"Matrix\", timeit.timeit(test_matrix, number=num_runs), num_samples, num_runs)"
   ]
  },
  {
   "cell_type": "markdown",
   "metadata": {},
   "source": [
    "Pro: FAST!!!!! 100 volte piu' veloce della versione a grafi, 30 volte piu' veloce della versione OOP. Mantiene la flessibilita' del grafo. Il codice e' molto compatto. Troppo compatto?\n",
    "\n",
    "Contro: Scusa.... che??????  "
   ]
  },
  {
   "cell_type": "code",
   "execution_count": 9,
   "metadata": {},
   "outputs": [
    {
     "name": "stdout",
     "output_type": "stream",
     "text": [
      "Method: Einsum. Ran 1,000 samples 100 times in 5.7628 seconds. 17,352 samples/second\n"
     ]
    }
   ],
   "source": [
    "# Più veloce se MKL è installato\n",
    "# La performance di einsum dipende dalla versione di numpy e dall'installazione di mkl!\n",
    "num_samples = 1_000\n",
    "num_runs = 100\n",
    "sample_coords = np.random.random((num_samples, num_coords))*max_coord_value\n",
    "\n",
    "sample_coords_reshape = sample_coords.reshape((num_samples, num_joints, 2))\n",
    "\n",
    "limbs = np.squeeze([ARM_L, ARM_R, LEG_L, LEG_R])\n",
    "def test_einsum():\n",
    "    start = sample_coords_reshape[:, limbs[:,0]]\n",
    "    end = sample_coords_reshape[:, limbs[:,1]]\n",
    "    diffs = start - end\n",
    "    lengths = np.sqrt(np.einsum(\"SJC,SJC->SJ\", diffs, diffs))\n",
    "    return lengths\n",
    "\n",
    "log_speed(\"Einsum\", timeit.timeit(test_einsum, number=num_runs*1000), num_samples, num_runs )  "
   ]
  },
  {
   "cell_type": "code",
   "execution_count": 10,
   "metadata": {},
   "outputs": [
    {
     "data": {
      "text/plain": [
       "True"
      ]
     },
     "execution_count": 10,
     "metadata": {},
     "output_type": "execute_result"
    }
   ],
   "source": [
    "# Ma i risultati, sono tutti uguali?\n",
    "\n",
    "graph_lengths = np.squeeze(test_graph())\n",
    "oop_lengths = np.squeeze(test_oop())\n",
    "matrix_lengths = test_matrix()\n",
    "ein_lengths = test_einsum()\n",
    "num_runs * 10\n",
    "idx = 18\n",
    "\n",
    "np.all(np.isclose(graph_lengths, matrix_lengths)) and \\\n",
    "np.all(np.isclose(graph_lengths, oop_lengths)) and \\\n",
    "np.all(np.isclose(graph_lengths, ein_lengths))\n"
   ]
  },
  {
   "cell_type": "markdown",
   "metadata": {},
   "source": [
    "# Tensorflow"
   ]
  },
  {
   "cell_type": "markdown",
   "metadata": {},
   "source": [
    "Qualche funzione che fa comodo"
   ]
  },
  {
   "cell_type": "code",
   "execution_count": 12,
   "metadata": {},
   "outputs": [],
   "source": [
    "import tensorflow as tf\n",
    "\n",
    "def tf_limb_length(limb, tf_coordinates, prefix, limb_id):\n",
    "    start = tf_coordinates[:, 2 * limb[0] : 2 * limb[0] + 2]\n",
    "    end   = tf_coordinates[:, 2 * limb[1] : 2 * limb[1] + 2]\n",
    "    return tf.norm(start - end, axis=1, keepdims=True, name=prefix+\"Limb_{}\".format(limb_id))\n",
    "    \n",
    "def tf_lengths(tf_coordinates, prefix):\n",
    "    length_tensors = []\n",
    "    for i, limb in enumerate([ARM_L, ARM_R, LEG_L, LEG_R]):\n",
    "        length_tensors.append(tf_limb_length(limb, tf_coordinates, prefix, i))\n",
    "    return tf.concat(length_tensors, axis=1)"
   ]
  },
  {
   "cell_type": "markdown",
   "metadata": {},
   "source": [
    "## Tensorflow - CPU"
   ]
  },
  {
   "cell_type": "code",
   "execution_count": 13,
   "metadata": {},
   "outputs": [
    {
     "name": "stdout",
     "output_type": "stream",
     "text": [
      "Init CPU 0.0038182735443115234\n",
      "Method: TF CPU. Ran 1,000 samples 100 times in 0.0087 seconds. 11,439,699 samples/second\n"
     ]
    }
   ],
   "source": [
    "num_samples = 1_000\n",
    "num_runs = 100\n",
    "\n",
    "batch_shape = (num_samples, num_coords)\n",
    "\n",
    "tf.reset_default_graph()\n",
    "\n",
    "with tf.device(\"/cpu:0\"):\n",
    "    tf_cpu_sample_coords = tf.get_variable(name=\"TF_Sample_Coords_CPU\", shape=batch_shape)\n",
    "    tf_cpu_sample_coords_init_random = tf.assign(tf_cpu_sample_coords, tf.random_uniform(batch_shape))\n",
    "    tf_cpu_lengths = tf_lengths(tf_cpu_sample_coords, \"CPU\")\n",
    "\n",
    "def make_test_tf_cpu_fun(session):\n",
    "    def f():\n",
    "        r = session.run(tf_cpu_lengths.op)\n",
    "        return r\n",
    "    return f\n",
    "\n",
    "with tf.Session() as session:\n",
    "    s = time.time()\n",
    "    session.run(tf_cpu_sample_coords_init_random)\n",
    "    print(\"Init CPU\", time.time() - s)\n",
    "\n",
    "    test_tf_cpu = make_test_tf_cpu_fun(session)\n",
    "    # Run once to init the constants\n",
    "    test_tf_cpu()\n",
    "    log_speed(\"TF CPU\",timeit.timeit(test_tf_cpu, number=num_runs), num_samples, num_runs) \n"
   ]
  },
  {
   "cell_type": "markdown",
   "metadata": {},
   "source": [
    "## Tensorflow - GPU"
   ]
  },
  {
   "cell_type": "code",
   "execution_count": 14,
   "metadata": {},
   "outputs": [
    {
     "name": "stdout",
     "output_type": "stream",
     "text": [
      "Init GPU 0.004679679870605469\n",
      "Method: TF GPU. Ran 1,000 samples 100 times in 0.0204 seconds. 4,904,174 samples/second\n"
     ]
    }
   ],
   "source": [
    "num_samples = 1_000\n",
    "num_runs = 100\n",
    "\n",
    "batch_shape = (num_samples, num_coords)\n",
    "\n",
    "tf.reset_default_graph()\n",
    "\n",
    "with tf.device(\"/gpu:0\"):\n",
    "    tf_gpu_sample_coords = tf.get_variable(name=\"TF_Sample_Coords_GPU\", shape=batch_shape)\n",
    "    tf_gpu_sample_coords_init_random = tf.assign(tf_gpu_sample_coords, tf.random_uniform(batch_shape))\n",
    "    tf_gpu_lengths = tf_lengths(tf_gpu_sample_coords, \"GPU\")\n",
    "\n",
    "def make_test_tf_gpu_fun(session):\n",
    "    def f():\n",
    "        r = session.run(tf_gpu_lengths.op)\n",
    "        return r\n",
    "    return f\n",
    "\n",
    "with tf.Session() as session:\n",
    "    s = time.time()\n",
    "    session.run(tf_gpu_sample_coords_init_random)\n",
    "    print(\"Init GPU\", time.time() - s)\n",
    "    \n",
    "    test_tf_gpu = make_test_tf_gpu_fun(session)\n",
    "    # Run once to init the constants\n",
    "    test_tf_gpu()\n",
    "    log_speed(\"TF GPU\",timeit.timeit(test_tf_gpu, number=num_runs), num_samples, num_runs) "
   ]
  },
  {
   "cell_type": "markdown",
   "metadata": {},
   "source": [
    "Quanti campioni possiamo stipare sulla GPU?\n",
    "\n",
    "Ogni campione sono 12 float32 -> 48 byte\n",
    "\n",
    "GTX 1070: 8GB"
   ]
  },
  {
   "cell_type": "code",
   "execution_count": 15,
   "metadata": {},
   "outputs": [
    {
     "data": {
      "text/plain": [
       "'Limite teorico 178,956,970'"
      ]
     },
     "execution_count": 15,
     "metadata": {},
     "output_type": "execute_result"
    }
   ],
   "source": [
    "\"Limite teorico {:,}\".format(int(8*1024*1024*1024/48))"
   ]
  },
  {
   "cell_type": "markdown",
   "metadata": {},
   "source": [
    "In realtà il limite è più basso se TF deve allocare spazio per i risultati intermedi delle diverse operazioni, o almeno per input e output.\n",
    "\n",
    "In pratica, una GPU con 12GB di RAM va in OOM con 60,000,000 campioni"
   ]
  },
  {
   "cell_type": "markdown",
   "metadata": {},
   "source": [
    "## Tensorflow - Custom Kernel"
   ]
  },
  {
   "cell_type": "code",
   "execution_count": 21,
   "metadata": {},
   "outputs": [
    {
     "name": "stdout",
     "output_type": "stream",
     "text": [
      "Init GPU 0.4881777763366699\n",
      "Method: TF Custom. Ran 40,000,000 samples 100 times in 1.2454 seconds. 3,211,780,167 samples/second\n"
     ]
    }
   ],
   "source": [
    "num_samples = 40_000_000\n",
    "num_runs = 100\n",
    "\n",
    "batch_shape = (num_samples, num_joints, 2)\n",
    "\n",
    "tf.reset_default_graph()\n",
    "\n",
    "with tf.device(\"/gpu:0\"):\n",
    "    tf_gpu_sample_coords = tf.get_variable(name=\"TF_Sample_Coords_GPU\", shape=batch_shape)\n",
    "    tf_gpu_sample_coords_init_random = tf.assign(tf_gpu_sample_coords, tf.random_uniform(batch_shape))\n",
    "    sticky_lenghts = tf.load_op_library('/home/chiara/anaconda3/envs/xpug/lib/sticky_lengths.so')\n",
    "    tf_custom_lengths = sticky_lenghts.sticky_lengths(tf_gpu_sample_coords)\n",
    "\n",
    "\n",
    "def make_test_tf_custom_op(session):\n",
    "    def f():\n",
    "        return session.run(tf_custom_lengths.op)\n",
    "\n",
    "    return f\n",
    "\n",
    "with tf.Session() as session:\n",
    "    s = time.time()\n",
    "    session.run(tf_gpu_sample_coords_init_random)\n",
    "    print(\"Init GPU\", time.time() - s)\n",
    "    test_custom_op = make_test_tf_custom_op(session)\n",
    "    test_custom_op()\n",
    "    t = timeit.timeit(test_custom_op, number=num_runs)\n",
    "\n",
    "\n",
    "    log_speed(\"TF Custom\", t, num_samples, num_runs)"
   ]
  },
  {
   "cell_type": "code",
   "execution_count": null,
   "metadata": {},
   "outputs": [],
   "source": []
  }
 ],
 "metadata": {
  "kernelspec": {
   "display_name": "Python 3",
   "language": "python",
   "name": "python3"
  },
  "language_info": {
   "codemirror_mode": {
    "name": "ipython",
    "version": 3
   },
   "file_extension": ".py",
   "mimetype": "text/x-python",
   "name": "python",
   "nbconvert_exporter": "python",
   "pygments_lexer": "ipython3",
   "version": "3.6.4"
  }
 },
 "nbformat": 4,
 "nbformat_minor": 2
}
